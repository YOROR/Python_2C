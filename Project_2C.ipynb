{
 "cells": [
  {
   "cell_type": "markdown",
   "id": "9571b757",
   "metadata": {},
   "source": [
    "# Project 2 "
   ]
  },
  {
   "cell_type": "markdown",
   "id": "1faf9620",
   "metadata": {},
   "source": [
    "HEXIM 1 is found on human chromosome 17 and mouse chromosome11. It is both a protein and a gene and is also known to interact withe Cyclin T1 and Cdk9. "
   ]
  },
  {
   "cell_type": "markdown",
   "id": "38c9d611",
   "metadata": {},
   "source": [
    "# Scientific Question\n",
    "\n",
    "Is it possible for Mice HEXIM1 protein be used as a model comparison to study human HEXIM1 protein? "
   ]
  },
  {
   "cell_type": "markdown",
   "id": "478e8584",
   "metadata": {},
   "source": [
    "HEXIM 1 in Humans is known to be a transcriptional regulator as a general RNA Poly II transcription inhibitor. Also plays a role in DNA virus mediated innate immune response by assembling into the HDP-RNP complex which is a plateform for IRF3 phosphorylation.\n",
    "\"Expression of this gene is induced by hexamethylene-bis-acetamide in vascular smooth muscle cells\"\n",
    "website link: https://www.ncbi.nlm.nih.gov/gene/10614 \n"
   ]
  },
  {
   "cell_type": "markdown",
   "id": "fb94cfd3",
   "metadata": {},
   "source": [
    " \"HEXIM1 HEXIM P-TEFb complex subunit 1\"\n",
    " https://www.ncbi.nlm.nih.gov/gene/10614\n",
    " \"Expression of this gene is induced by hexamethylene-bis-acetamide in vascular smooth muscle cells. This gene has no introns.\""
   ]
  },
  {
   "cell_type": "markdown",
   "id": "27cdf69e",
   "metadata": {},
   "source": [
    "HEXIM 1 in mouse is a gene and a protein coding gene. \"Predicted to enable several functions, including 7SK snRNA binding activity; P-TEFb complex binding activity; and cyclin-dependent protein serine/threonine kinase inhibitor activity. Acts upstream of or within heart development and negative regulation of transcription, DNA-templated. Located in nucleus. Is expressed in several structures, including branchial arch; embryo mesenchyme; heart and pericardium; hindgut dorsal mesentery; and sensory organ. Orthologous to human HEXIM1 (HEXIM P-TEFb complex subunit 1).\" \n",
    "https://www.ncbi.nlm.nih.gov/gene/192231"
   ]
  },
  {
   "cell_type": "markdown",
   "id": "d180495b",
   "metadata": {},
   "source": [
    "# Hypothesis \n",
    " If HEXIM 1 protein in Mice is similar in sequence and function then it can be used as a comparison model to study HEXIM1 in humans. "
   ]
  },
  {
   "cell_type": "markdown",
   "id": "8337eab2",
   "metadata": {},
   "source": [
    "Data for the multiple sequence alignment was found using uniport: https://www.uniprot.org/uniprot/?query=HEXIM+1&sort=score\n",
    "https://www.uniprot.org/uniprot/?query=HEXIM+1&sort=score"
   ]
  },
  {
   "cell_type": "markdown",
   "id": "673d9889",
   "metadata": {},
   "source": [
    " (here are some references that iI used while finding the data https://www.proteinatlas.org/ENSG00000186834-HEXIM1/tissue\n",
    "\n",
    "https://www.ncbi.nlm.nih.gov/datasets/tables/genes/?table_type=transcripts&key=c991c6f01ff36d3a30cc3706fb6daeb6\n",
    "\n",
    "https://www.ebi.ac.uk/ebisearch/search.ebi?db=atlas-genes-differential&query=HEXIM%201&size=15&facets=TAXONOMY:9606,TAXONOMY:10090)"
   ]
  },
  {
   "cell_type": "markdown",
   "id": "37613053",
   "metadata": {},
   "source": [
    " Swiss protien for strucrual bio informatics and 3D model comparsion then I measured the distance between the stuctures."
   ]
  },
  {
   "cell_type": "markdown",
   "id": "4b60b873",
   "metadata": {},
   "source": [
    "# Loading packages "
   ]
  },
  {
   "cell_type": "code",
   "execution_count": null,
   "id": "371a42fe",
   "metadata": {},
   "outputs": [],
   "source": [
    "import pandas as pd\n",
    "import numpy as np\n",
    "import scipy as scip\n",
    "import os\n",
    "import pubchempy as pcp\n",
    "import mols2grid\n",
    "import nglview as ngl\n",
    "from IPython.display import Image\n",
    "from rdkit import Chem\n",
    "from rdkit import DataStructs\n",
    "import itertools\n",
    "import matplotlib.pyplot as plt\n",
    "import numpy as np\n",
    "from rdkit.Chem import rdMolAlign\n",
    "from rdkit.Chem.rdMolAlign import AlignMol\n",
    "from rdkit.Chem import rdmolfiles\n",
    "from rdkit.Chem import PandasTools\n",
    "from rdkit.Chem.rdmolfiles import ForwardSDMolSupplier"
   ]
  },
  {
   "cell_type": "code",
   "execution_count": 2,
   "id": "25fc1ffb",
   "metadata": {},
   "outputs": [
    {
     "name": "stdout",
     "output_type": "stream",
     "text": [
      "Collecting package metadata (current_repodata.json): done\n",
      "Solving environment: done\n",
      "\n",
      "## Package Plan ##\n",
      "\n",
      "  environment location: /Users/yasminorozco/opt/anaconda3\n",
      "\n",
      "  added / updated specs:\n",
      "    - pubchempy\n",
      "\n",
      "\n",
      "The following packages will be downloaded:\n",
      "\n",
      "    package                    |            build\n",
      "    ---------------------------|-----------------\n",
      "    pubchempy-1.0.4            |     pyh864c0ab_2          18 KB  bioconda\n",
      "    ------------------------------------------------------------\n",
      "                                           Total:          18 KB\n",
      "\n",
      "The following NEW packages will be INSTALLED:\n",
      "\n",
      "  pubchempy          bioconda/noarch::pubchempy-1.0.4-pyh864c0ab_2\n",
      "\n",
      "\n",
      "\n",
      "Downloading and Extracting Packages\n",
      "pubchempy-1.0.4      | 18 KB     | ##################################### | 100% \n",
      "Preparing transaction: done\n",
      "Verifying transaction: done\n",
      "Executing transaction: done\n",
      "\n",
      "Note: you may need to restart the kernel to use updated packages.\n"
     ]
    }
   ],
   "source": [
    "conda install -c bioconda pubchempy"
   ]
  },
  {
   "cell_type": "code",
   "execution_count": 3,
   "id": "43c35744",
   "metadata": {},
   "outputs": [
    {
     "name": "stdout",
     "output_type": "stream",
     "text": [
      "Collecting package metadata (current_repodata.json): done\n",
      "Solving environment: failed with initial frozen solve. Retrying with flexible solve.\n",
      "Solving environment: failed with repodata from current_repodata.json, will retry with next repodata source.\n",
      "Collecting package metadata (repodata.json): done\n",
      "Solving environment: failed with initial frozen solve. Retrying with flexible solve.\n",
      "Solving environment: - \n",
      "Found conflicts! Looking for incompatible packages.\n",
      "This can take several minutes.  Press CTRL-C to abort.\n",
      "                                                                               failed\n",
      "\n",
      "UnsatisfiableError: The following specifications were found\n",
      "to be incompatible with the existing python installation in your environment:\n",
      "\n",
      "Specifications:\n",
      "\n",
      "  - rdkit -> python[version='2.7.*|3.5.*|3.6.*|>=2.7,<2.8.0a0|>=3.6,<3.7.0a0|>=3.7,<3.8.0a0|>=3.5,<3.6.0a0|3.4.*']\n",
      "\n",
      "Your python: python=3.9\n",
      "\n",
      "If python is on the left-most side of the chain, that's the version you've asked for.\n",
      "When python appears to the right, that indicates that the thing on the left is somehow\n",
      "not available for the python version you are constrained to. Note that conda will not\n",
      "change your python version to a different minor version unless you explicitly specify\n",
      "that.\n",
      "\n",
      "\n",
      "\n",
      "\n",
      "Note: you may need to restart the kernel to use updated packages.\n"
     ]
    }
   ],
   "source": [
    "conda install -c rdkit rdkit"
   ]
  },
  {
   "cell_type": "code",
   "execution_count": 4,
   "id": "21118733",
   "metadata": {},
   "outputs": [
    {
     "name": "stdout",
     "output_type": "stream",
     "text": [
      "Collecting package metadata (current_repodata.json): done\n",
      "Solving environment: done\n",
      "\n",
      "## Package Plan ##\n",
      "\n",
      "  environment location: /Users/yasminorozco/opt/anaconda3\n",
      "\n",
      "  added / updated specs:\n",
      "    - nglview\n",
      "\n",
      "\n",
      "The following packages will be downloaded:\n",
      "\n",
      "    package                    |            build\n",
      "    ---------------------------|-----------------\n",
      "    conda-4.12.0               |   py39h6e9494a_0         1.0 MB  conda-forge\n",
      "    nglview-3.0.3              |     pyh8a188c0_0         6.3 MB  conda-forge\n",
      "    python_abi-3.9             |           2_cp39           4 KB  conda-forge\n",
      "    ------------------------------------------------------------\n",
      "                                           Total:         7.3 MB\n",
      "\n",
      "The following NEW packages will be INSTALLED:\n",
      "\n",
      "  python_abi         conda-forge/osx-64::python_abi-3.9-2_cp39\n",
      "\n",
      "The following packages will be UPDATED:\n",
      "\n",
      "  nglview            conda-forge/label/gcc7::nglview-1.1.6~ --> conda-forge::nglview-3.0.3-pyh8a188c0_0\n",
      "\n",
      "The following packages will be SUPERSEDED by a higher-priority channel:\n",
      "\n",
      "  conda              pkgs/main::conda-4.12.0-py39hecd8cb5_0 --> conda-forge::conda-4.12.0-py39h6e9494a_0\n",
      "\n",
      "\n",
      "\n",
      "Downloading and Extracting Packages\n",
      "python_abi-3.9       | 4 KB      | ##################################### | 100% \n",
      "nglview-3.0.3        | 6.3 MB    | ##################################### | 100% \n",
      "conda-4.12.0         | 1.0 MB    | ##################################### | 100% \n",
      "Preparing transaction: done\n",
      "Verifying transaction: done\n",
      "Executing transaction: done\n",
      "\n",
      "Note: you may need to restart the kernel to use updated packages.\n"
     ]
    }
   ],
   "source": [
    "conda install -c conda-forge nglview"
   ]
  },
  {
   "cell_type": "code",
   "execution_count": null,
   "id": "d3c633fa",
   "metadata": {},
   "outputs": [
    {
     "name": "stdout",
     "output_type": "stream",
     "text": [
      "Collecting package metadata (current_repodata.json): done\n",
      "Solving environment: \\ "
     ]
    }
   ],
   "source": [
    "conda install -c conda-forge mols2grid\n"
   ]
  },
  {
   "cell_type": "markdown",
   "id": "71101092",
   "metadata": {},
   "source": [
    "Pandas:It is used as a tool to help data and machine learning for data clean up and anyalsis. \n",
    "It helps handle missing data. Also provides an efficient way to site. Along with being able to merge, concateate or reshape. \n",
    "\n",
    "\n",
    "Numpy:Offeres a lot of different uses, such as numerical computing tools and powerdul n-dimensional array. It works a long ray of handwares and and is easy to use. Along with playing well with libraries.\n",
    "\n",
    "SciPy:Helps provide fundamental algorithms by optimization of intergration, differential equations amd my other types of problems across many domains. By providing specialized data structure. It is easy to used. Also avaible all types of domains.\n",
    "    \n",
    "matplotlib: It is used as a comprehensive library that creats different types of graphical visualations. It is custimiable and able to exported. You can use it for almost all of the type of graphical representation.\n",
    "\n",
    "IPython.display: It is part of all frontends where the user can decide when and what type of representation to use and how. You can use to to audio or visuals, etc. "
   ]
  },
  {
   "cell_type": "markdown",
   "id": "7b984054",
   "metadata": {},
   "source": [
    "# Performing Bioinformatics Analysis "
   ]
  },
  {
   "cell_type": "markdown",
   "id": "a9637e77",
   "metadata": {},
   "source": [
    "This data was uptained via NCBI of HEXIM1 homosapiens and MEXIM1 (https://www.ncbi.nlm.nih.gov/gene/10614)of MUS(https://www.ncbi.nlm.nih.gov/gene/192231)\n",
    ">sp|O94992|HEXI1_HUMAN Protein HEXIM1 OS=Homo sapiens OX=9606 GN=HEXIM1 PE=1 SV=1\n",
    "MAEPFLSEYQHQPQTSNCTGAAAVQEELNPERPPGAEERVPEEDSRWQSRAFPQLGGRPG\n",
    "PEGEGSLESQPPPLQTQACPESSCLREGEKGQNGDDSSAGGDFPPPAEVEPTPEAELLAQ\n",
    "PCHDSEASKLGAPAAGGEEEWGQQQRQLGKKKHRRRPSKKKRHWKPYYKLTWEEKKKFDE\n",
    "KQSLRASRIRAEMFAKGQPVAPYNTTQFLMDDHDQEEPDLKTGLYSKRAAAKSDDTSDDD\n",
    "FMEEGGEEDGGSDGMGGDGSEFLQRDFSETYERYHTESLQNMSKQELIKEYLELEKCLSR\n",
    "MEDENNRLRLESKRLGGDDARVRELELELDRLRAENLQLLTENELHRQQERAPLSKFGD\n",
    ">sp|Q8R409|HEXI1_MOUSE Protein HEXIM1 OS=Mus musculus OX=10090 GN=Hexim1 PE=1 SV=1\n",
    "MAEPLLTEHQHQPQTSNCTGAAVVHEEHTSERPPSAEERVPKEDSRWQSRASLQSGSRPG\n",
    "QEGEGGLKHQLPPLQTNACPELSSLEKGEKGQNGEDLSTGGASPSAEGEPMSESLVQPGH\n",
    "DSEATKQEAPAAGGEEPWGQQQRQLGKKKHRRRPSKKKRHWKPYYKLTWEEKKKFDEKQS\n",
    "LRASRVRAEMFAKGQPVAPYNTTQFLMDDHDQEEPDLKTGLYPKRAAAKSDDTSDEDFVE\n",
    "EAGEEDGGSDGMGGDGSEFLQRDFSETYERYHAESLQNMSKQELIKEYLELEKCLSRKED\n",
    "ENNRLRLESKRLGGVDARVRELELELDRLRAENLQLLTENELHRQQERAPLSKFGD"
   ]
  },
  {
   "cell_type": "code",
   "execution_count": 5,
   "id": "37fd4912",
   "metadata": {},
   "outputs": [],
   "source": [
    "##download protien and do a sequences aligment \n",
    "# \n",
    "from Bio import AlignIO\n",
    "alignmenthuman = AlignIO.read(\"protein.faa\", \"fasta\")\n",
    "\n",
    "\n",
    "from Bio import AlignIO\n",
    "alignmentmouse = AlignIO.read(\"proteinmouse.faa\", \"fasta\")\n"
   ]
  },
  {
   "cell_type": "code",
   "execution_count": 6,
   "id": "dc737f42",
   "metadata": {},
   "outputs": [
    {
     "name": "stdout",
     "output_type": "stream",
     "text": [
      "Alignment with 1 rows and 359 columns\n",
      "MAEPFLSEYQHQPQTSNCTGAAAVQEELNPERPPGAEERVPEED...FGD NP_006451.1\n"
     ]
    }
   ],
   "source": [
    "print(alignmenthuman)"
   ]
  },
  {
   "cell_type": "code",
   "execution_count": 7,
   "id": "6892c54e",
   "metadata": {},
   "outputs": [
    {
     "name": "stdout",
     "output_type": "stream",
     "text": [
      "Alignment with 1 rows and 356 columns\n",
      "MAEPLLTEHQHQPQTSNCTGAAVVHEEHTSERPPSAEERVPKED...FGD NP_620092.1\n"
     ]
    }
   ],
   "source": [
    "print(alignmentmouse)"
   ]
  },
  {
   "cell_type": "code",
   "execution_count": 8,
   "id": "50709e68",
   "metadata": {},
   "outputs": [
    {
     "name": "stdout",
     "output_type": "stream",
     "text": [
      "Alignment with 2 rows and 360 columns\n",
      "MAEPLLTEHQHQPQTSNCTGAAVVHEEHTSERPPSAEERVPKED...FGD protein_H\n",
      "MAEPFLSEYQHQPQTSNCTGAAAVQEELNPERPPGAEERVPEED...FGD protein_H\n",
      "\n"
     ]
    }
   ],
   "source": [
    "#another possible using phylips \n",
    "#data from https://www.ncbi.nlm.nih.gov/tools/cobalt/cobalt.cgi\n",
    "from Bio import AlignIO\n",
    "alignments = AlignIO.parse(\"92F15ZRM212-alignment.phylip\", \"phylip\")\n",
    "for alignment in alignments:\n",
    "    print(alignment)\n",
    "    print(\"\")"
   ]
  },
  {
   "cell_type": "code",
   "execution_count": 9,
   "id": "59d6f6bf",
   "metadata": {},
   "outputs": [],
   "source": [
    "from Bio import motifs"
   ]
  },
  {
   "cell_type": "code",
   "execution_count": 10,
   "id": "87f81a08",
   "metadata": {},
   "outputs": [
    {
     "ename": "SyntaxError",
     "evalue": "EOL while scanning string literal (493233801.py, line 3)",
     "output_type": "error",
     "traceback": [
      "\u001b[0;36m  File \u001b[0;32m\"/var/folders/hh/r0lhb38n63z__n7lg4b4sl4c0000gn/T/ipykernel_1744/493233801.py\"\u001b[0;36m, line \u001b[0;32m3\u001b[0m\n\u001b[0;31m    DNA_motif = [ Seq(\"AGCAGTTGGAAGTTGGCAGGTGGAGAGGCAGGTTGGGAGGGAAAGTCGGGGGAGGACGCGGAAGAGGAGC\u001b[0m\n\u001b[0m                                                                                             ^\u001b[0m\n\u001b[0;31mSyntaxError\u001b[0m\u001b[0;31m:\u001b[0m EOL while scanning string literal\n"
     ]
    }
   ],
   "source": [
    "#. it was too long so it sis not load. I will not use this\n",
    "from Bio.Seq import Seq \n",
    "DNA_motif = [ Seq(\"AGCAGTTGGAAGTTGGCAGGTGGAGAGGCAGGTTGGGAGGGAAAGTCGGGGGAGGACGCGGAAGAGGAGC\n",
    "\"), \n",
    "               Seq(\"GAGGAAAAGAGGAGGAGGCGGAGGAGAACTGAGCGGAGCATCGAGCCAGAGGGGAGATGAGTTTGTCTGT\n",
    "\")] \n",
    "seq = motifs.create(DNA_motif) \n",
    "print(seq) AGCAGTTGGAAGTTGGCAGGTGGAGAGGCAGGTTGGGAGGGAAAGTCGGGGGAGGACGCGGAAGAGGAGC GAGGAAAAGAGGAGGAGGCGGAGGAGAACTGAGCGGAGCATCGAGCCAGAGGGGAGATGAGTTTGTCTGT"
   ]
  },
  {
   "cell_type": "code",
   "execution_count": 11,
   "id": "690904c1",
   "metadata": {},
   "outputs": [
    {
     "name": "stdout",
     "output_type": "stream",
     "text": [
      "AGCAG\n",
      "GAGGA\n",
      "\n"
     ]
    }
   ],
   "source": [
    "from Bio.Seq import Seq\n",
    "instances = [Seq(\"AGCAG\"),\n",
    "    Seq(\"GAGGA\"),\n",
    "   ]\n",
    "\n",
    "m = motifs.create(instances)\n",
    "\n",
    "print(m)"
   ]
  },
  {
   "cell_type": "markdown",
   "id": "f27aa38c",
   "metadata": {},
   "source": [
    "my reference https://biopython-tutorial.readthedocs.io/en/latest/notebooks/14%20-%20Sequence%20motif%20analysis%20using%20Bio.motifs.html "
   ]
  },
  {
   "cell_type": "code",
   "execution_count": 12,
   "id": "0b14372e",
   "metadata": {},
   "outputs": [
    {
     "data": {
      "text/plain": [
       "Seq('AACAA')"
      ]
     },
     "execution_count": 12,
     "metadata": {},
     "output_type": "execute_result"
    }
   ],
   "source": [
    "\n",
    "m.consensus"
   ]
  },
  {
   "cell_type": "code",
   "execution_count": 13,
   "id": "b12ff03d",
   "metadata": {},
   "outputs": [],
   "source": [
    "#how do I insert the photo\n",
    "m.weblogo(\"GAG.png\")\n",
    "m.weblogo(\"AGC.png\")"
   ]
  },
  {
   "cell_type": "markdown",
   "id": "317af98b",
   "metadata": {},
   "source": [
    "P-TEFb complex in both Humans and mice. It is part of boths binding acitivty however it is notied that it does assoicate with HEXIM1 . \n",
    "\"Hexim1 is a cellular protein that associates with the positive transcription elongation factor b (P-TEFb) to regulate RNA polymerase II elongation of nascent mRNA transcripts.\" https://www.rcsb.org/structure/2GD7 In Homo sapiens. \n",
    "while in mice \"Brd4 is a member of the bromodomains and extra terminal domain (BET) family of proteins that recognize acetylated chromatin structures through their bromodomains and act as transcriptional activators. Brd4 functions as an associated factor and positive regulator of P-TEFb, a Cdk9-cyclin T heterodimer that stimulates transcriptional elongation by RNA polymerase II.\"https://www.rcsb.org/structure/3JVK"
   ]
  },
  {
   "cell_type": "code",
   "execution_count": 39,
   "id": "4bc658ec",
   "metadata": {},
   "outputs": [
    {
     "data": {
      "application/vnd.jupyter.widget-view+json": {
       "model_id": "652e43b60d9046a789dde8c3ab80efbe",
       "version_major": 2,
       "version_minor": 0
      },
      "text/plain": []
     },
     "metadata": {},
     "output_type": "display_data"
    },
    {
     "ename": "NameError",
     "evalue": "name 'structure' is not defined",
     "output_type": "error",
     "traceback": [
      "\u001b[0;31m---------------------------------------------------------------------------\u001b[0m",
      "\u001b[0;31mNameError\u001b[0m                                 Traceback (most recent call last)",
      "\u001b[0;32m/var/folders/hh/r0lhb38n63z__n7lg4b4sl4c0000gn/T/ipykernel_809/3893403982.py\u001b[0m in \u001b[0;36m<module>\u001b[0;34m\u001b[0m\n\u001b[1;32m      2\u001b[0m \u001b[0;32mimport\u001b[0m \u001b[0mnglview\u001b[0m \u001b[0;32mas\u001b[0m \u001b[0mnv\u001b[0m\u001b[0;34m\u001b[0m\u001b[0;34m\u001b[0m\u001b[0m\n\u001b[1;32m      3\u001b[0m \u001b[0;34m\u001b[0m\u001b[0m\n\u001b[0;32m----> 4\u001b[0;31m \u001b[0mview\u001b[0m \u001b[0;34m=\u001b[0m \u001b[0mnv\u001b[0m\u001b[0;34m.\u001b[0m\u001b[0mshow_biopython\u001b[0m\u001b[0;34m(\u001b[0m\u001b[0mstructure\u001b[0m\u001b[0;34m)\u001b[0m\u001b[0;34m\u001b[0m\u001b[0;34m\u001b[0m\u001b[0m\n\u001b[0m\u001b[1;32m      5\u001b[0m \u001b[0mview\u001b[0m\u001b[0;34m\u001b[0m\u001b[0;34m\u001b[0m\u001b[0m\n\u001b[1;32m      6\u001b[0m \u001b[0mparser\u001b[0m \u001b[0;34m=\u001b[0m \u001b[0mPDBParser\u001b[0m\u001b[0;34m(\u001b[0m\u001b[0;34m)\u001b[0m\u001b[0;34m\u001b[0m\u001b[0;34m\u001b[0m\u001b[0m\n",
      "\u001b[0;31mNameError\u001b[0m: name 'structure' is not defined"
     ]
    }
   ],
   "source": [
    "# I got this code from Challenge problem 7 code answer key and for some reason it is still not loading \n",
    "#is there a reason for this ?\n",
    "from Bio.PDB import *\n",
    "import nglview as nv\n",
    "\n",
    "view = nv.show_biopython(structure)\n",
    "view\n",
    "parser = PDBParser()"
   ]
  },
  {
   "cell_type": "code",
   "execution_count": 15,
   "id": "56f329d3",
   "metadata": {},
   "outputs": [],
   "source": [
    "from Bio.PDB import *"
   ]
  },
  {
   "cell_type": "markdown",
   "id": "8b9bbd25",
   "metadata": {},
   "source": [
    " 3D View: Structure | 1D-3D View | Validation Report\n",
    "\n",
    "PreviousNext\n",
    "Macromolecule Content\n",
    "\n",
    "Total Structure Weight: 25.36 kDa \n",
    "Atom Count: 1774 \n",
    "Modelled Residue Count: 214 \n",
    "Deposited Residue Count: 214 \n",
    "Unique protein chains: 1\n",
    "2GD7\n",
    "The Structure of the Cyclin T-binding domain of Hexim1 reveals the molecular basis for regulation of transcription elongation\n",
    "https://www.rcsb.org/structure/2GD7"
   ]
  },
  {
   "cell_type": "code",
   "execution_count": 47,
   "id": "24cd03fc",
   "metadata": {},
   "outputs": [
    {
     "data": {
      "application/vnd.jupyter.widget-view+json": {
       "model_id": "6b6f19d6d36f45168a109f659fd9a126",
       "version_major": 2,
       "version_minor": 0
      },
      "text/plain": [
       "NGLWidget()"
      ]
     },
     "metadata": {},
     "output_type": "display_data"
    }
   ],
   "source": [
    "import nglview\n",
    "view = nglview.show_pdbid(\"2GD7\")  # load \"2GD7\" from RCSB PDB and display viewer widget\n",
    "view.add_representation('licorice', selection='chain A')\n",
    "view"
   ]
  },
  {
   "cell_type": "code",
   "execution_count": 17,
   "id": "580fe2c1",
   "metadata": {},
   "outputs": [],
   "source": [
    "import numpy\n",
    "from Bio.PDB.PDBParser import PDBParser\n",
    "parser = PDBParser()\n",
    "structure = parser.get_structure(\"2GD7\", \"2GD7.pdb\")"
   ]
  },
  {
   "cell_type": "code",
   "execution_count": 18,
   "id": "60872957",
   "metadata": {},
   "outputs": [
    {
     "name": "stdout",
     "output_type": "stream",
     "text": [
      "[109.813  -0.369   3.914] - [111.283   0.596   0.492] = 3.8473613262176514\n"
     ]
    }
   ],
   "source": [
    "\n",
    "\n",
    "residues = [r for r in structure.get_residues()] \n",
    "one  = residues[0][\"CA\"].get_coord()\n",
    "two = residues[1][\"CA\"].get_coord()\n",
    "print('{} - {} = {}'.format(one,two, numpy.linalg.norm(one-two)))\n"
   ]
  },
  {
   "cell_type": "markdown",
   "id": "740f5a55",
   "metadata": {},
   "source": [
    "https://www.rcsb.org/structure/3JVK"
   ]
  },
  {
   "cell_type": "markdown",
   "id": "56eaf996",
   "metadata": {},
   "source": [
    "3JVK\n",
    "Crystal structure of bromodomain 1 of mouse Brd4 in complex with histone H3-K(ac)14"
   ]
  },
  {
   "cell_type": "code",
   "execution_count": 20,
   "id": "10c88573",
   "metadata": {},
   "outputs": [],
   "source": [
    "from Bio.PDB import *\n",
    "import nglview as nv\n",
    "\n",
    "view = nv.show_biopython(structure)\n",
    "view\n",
    "parser = PDBParser()"
   ]
  },
  {
   "cell_type": "code",
   "execution_count": 24,
   "id": "bca9c94c",
   "metadata": {},
   "outputs": [
    {
     "data": {
      "application/vnd.jupyter.widget-view+json": {
       "model_id": "fc4ee86dd0c544e0b710799816c76b77",
       "version_major": 2,
       "version_minor": 0
      },
      "text/plain": [
       "NGLWidget()"
      ]
     },
     "metadata": {},
     "output_type": "display_data"
    }
   ],
   "source": [
    "\n",
    "import nglview\n",
    "view = nglview.show_pdbid(\"3JVK\")    # load \"3JVK\" from RCSB PDB and display viewer widget\n",
    "view.add_representation('licorice', selection='chain A')\n",
    "view\n",
    "\n",
    "\n"
   ]
  },
  {
   "cell_type": "code",
   "execution_count": 25,
   "id": "480657aa",
   "metadata": {},
   "outputs": [
    {
     "name": "stderr",
     "output_type": "stream",
     "text": [
      "/Users/yasminorozco/opt/anaconda3/lib/python3.9/site-packages/Bio/PDB/StructureBuilder.py:89: PDBConstructionWarning: WARNING: Chain A is discontinuous at line 2637.\n",
      "  warnings.warn(\n",
      "/Users/yasminorozco/opt/anaconda3/lib/python3.9/site-packages/Bio/PDB/StructureBuilder.py:89: PDBConstructionWarning: WARNING: Chain C is discontinuous at line 2849.\n",
      "  warnings.warn(\n"
     ]
    }
   ],
   "source": [
    "import numpy\n",
    "from Bio.PDB.PDBParser import PDBParser\n",
    "parser = PDBParser()\n",
    "structure = parser.get_structure(\"3JVK\", \"3JVK.pdb\")"
   ]
  },
  {
   "cell_type": "code",
   "execution_count": 23,
   "id": "17d0de1f",
   "metadata": {},
   "outputs": [
    {
     "name": "stdout",
     "output_type": "stream",
     "text": [
      "[ 15.361 -20.839   3.231] - [ 15.523 -26.001   5.167] = 5.515484809875488\n"
     ]
    }
   ],
   "source": [
    "residues = [r for r in structure.get_residues()] \n",
    "one  = residues[0][\"CB\"].get_coord()\n",
    "two = residues[1][\"CB\"].get_coord()\n",
    "print('{} - {} = {}'.format(one,two, numpy.linalg.norm(one-two)))"
   ]
  },
  {
   "cell_type": "markdown",
   "id": "dd7d2e40",
   "metadata": {},
   "source": [
    "# Analysis of the results "
   ]
  },
  {
   "cell_type": "markdown",
   "id": "9bc21be7",
   "metadata": {},
   "source": [
    " Although humans and Mus mouse are orthologous HEXIM1 genes that have diverged from a common speciation of species, they have devaied in function. \n",
    "Both protein sequence are simialr in structure however there are differences in the nucleotide sequences. Since the sequence is not the same within the two the function can be thought to be different."
   ]
  },
  {
   "cell_type": "markdown",
   "id": "0add6fd1",
   "metadata": {},
   "source": [
    "When reasearching the HEXIM 1 in humans it was found to be a transcription regulator and aided in innate immune response. However in mouse mus it was found that P-TEFb is a postitve transcription regulator that will enlongae the transcirption regulator. "
   ]
  },
  {
   "cell_type": "markdown",
   "id": "7844875f",
   "metadata": {},
   "source": [
    "After examining the results of the PBI structures that were related to Cyclin T1 and Cdk9 interactions however they are very different to one and another. The structure overall looks very differnt and the distance between the stuctures is aslo different."
   ]
  },
  {
   "cell_type": "markdown",
   "id": "c3d94804",
   "metadata": {},
   "source": [
    "The hypothesis I had first created was incorrect, since HEXIM 1 is similar is sequence there is enough variation to that makes HEXIM 1 different stuctures that will have overall different functions. Thus HEXIM1 can not be used a model comparsion to study HEXIM 1 in humans."
   ]
  },
  {
   "cell_type": "markdown",
   "id": "0497a7d9",
   "metadata": {},
   "source": [
    "# Questions"
   ]
  },
  {
   "cell_type": "markdown",
   "id": "0bd8f8a6",
   "metadata": {},
   "source": [
    "I looked at mutiple data bases but I can't find any data to make a RNA sequesnce anaylis then make a heat map. So I had to change my orginal plan. What do you suggest I do to proove that HEXIM 1 has a different function in both humans and mice?"
   ]
  },
  {
   "cell_type": "markdown",
   "id": "6007f779",
   "metadata": {},
   "source": [
    "Is there any database that already that a data set of studies done on HEXIM1? I need more guidance on this. "
   ]
  },
  {
   "cell_type": "markdown",
   "id": "8e3ef632",
   "metadata": {},
   "source": []
  }
 ],
 "metadata": {
  "kernelspec": {
   "display_name": "Python 3 (ipykernel)",
   "language": "python",
   "name": "python3"
  },
  "language_info": {
   "codemirror_mode": {
    "name": "ipython",
    "version": 3
   },
   "file_extension": ".py",
   "mimetype": "text/x-python",
   "name": "python",
   "nbconvert_exporter": "python",
   "pygments_lexer": "ipython3",
   "version": "3.9.7"
  }
 },
 "nbformat": 4,
 "nbformat_minor": 5
}
